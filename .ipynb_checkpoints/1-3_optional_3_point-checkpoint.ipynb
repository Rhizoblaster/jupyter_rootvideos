{
 "cells": [
  {
   "cell_type": "code",
   "execution_count": 14,
   "metadata": {
    "scrolled": false
   },
   "outputs": [
    {
     "name": "stdout",
     "output_type": "stream",
     "text": [
      "Selected subdirectory: Z:/Ken_CB_4000_9_25_2020\n",
      "Z:/Ken_CB_4000_9_25_2020\n"
     ]
    }
   ],
   "source": [
    "#Select folder for video source images\n",
    "import os\n",
    "from tkinter import Tk\n",
    "from tkinter.filedialog import askdirectory\n",
    "\n",
    "# Create a Tkinter root widget to display the file dialog\n",
    "root = Tk()\n",
    "root.withdraw()\n",
    "\n",
    "# Get the path to the base directory that you want to select a subdirectory from\n",
    "base_dir = 'Z:/'\n",
    "\n",
    "# Use the file dialog to select a subdirectory within the base directory\n",
    "subdir_path = askdirectory(initialdir=base_dir, title='Select a subdirectory')\n",
    "\n",
    "# Get the list of files in the selected subdirectory (optional)\n",
    "file_list = os.listdir(subdir_path)\n",
    "\n",
    "# Print the selected subdirectory path and the list of files (optional)\n",
    "print('Selected subdirectory:', subdir_path)\n",
    "#print('Files in the directory:', file_list)\n",
    "\n",
    "print(subdir_path)\n"
   ]
  },
  {
   "cell_type": "code",
   "execution_count": 4,
   "metadata": {},
   "outputs": [],
   "source": [
    "from PIL import Image\n",
    "\n",
    "def crop_and_combine_images(image_path, num_crops, center_points, zoom, aspect_ratio,buffer_width_input):\n",
    "    # Open the image\n",
    "    image = Image.open(image_path)\n",
    "    \n",
    "    # Get the dimensions of the image\n",
    "    width, height = image.size\n",
    "    \n",
    "    # Calculate the dimensions of each crop based on the desired aspect ratio of the final output image\n",
    "    crop_height = int(height / zoom)\n",
    "    out_image_width = int(crop_height * aspect_ratio)\n",
    "    # this is the percentage of the image that should be filled with a black \"buffer\" between frames\n",
    "    buffer_width = int(out_image_width * buffer_width_input)\n",
    "    crop_width = int((out_image_width - (buffer_width * (num_crops - 1)))/num_crops)\n",
    "    \n",
    "    # Initialize a list to store the cropped images\n",
    "    cropped_images = []\n",
    "    \n",
    "    # Loop through the center points and crop the image accordingly\n",
    "    for center_point in center_points:\n",
    "        # Calculate the left, upper, right, and lower coordinates of the crop\n",
    "        left = int(center_point[0] * width - crop_width / 2)\n",
    "        upper = int(center_point[1] * height - crop_height / 2)\n",
    "        right = left + crop_width\n",
    "        lower = upper + crop_height\n",
    "        \n",
    "        # Crop the image\n",
    "        cropped_image = image.crop((left, upper, right, lower))\n",
    "        \n",
    "        # Append the cropped image to the list\n",
    "        cropped_images.append(cropped_image)\n",
    "    \n",
    "    \n",
    "    # Combine the cropped images into a single output image\n",
    "    output_image = Image.new('RGB', (out_image_width, crop_height))\n",
    "    for i, cropped_image in enumerate(cropped_images):\n",
    "        output_image.paste(cropped_image, (i * (crop_width + buffer_width), 0))\n",
    "              \n",
    "    # Return the output image\n",
    "    return output_image\n"
   ]
  },
  {
   "cell_type": "code",
   "execution_count": 15,
   "metadata": {
    "scrolled": true
   },
   "outputs": [
    {
     "ename": "MemoryError",
     "evalue": "",
     "output_type": "error",
     "traceback": [
      "\u001b[1;31m---------------------------------------------------------------------------\u001b[0m",
      "\u001b[1;31mMemoryError\u001b[0m                               Traceback (most recent call last)",
      "Cell \u001b[1;32mIn[15], line 30\u001b[0m\n\u001b[0;32m     27\u001b[0m center_points \u001b[38;5;241m=\u001b[39m [(\u001b[38;5;241m0.5\u001b[39m,\u001b[38;5;241m0.5\u001b[39m)] \u001b[38;5;66;03m# add or remove from the list as needed for 1-3. Upper left is (0,0) and bottom right (1,1)\u001b[39;00m\n\u001b[0;32m     28\u001b[0m buffer_width_input \u001b[38;5;241m=\u001b[39m\u001b[38;5;241m0.005\u001b[39m\n\u001b[1;32m---> 30\u001b[0m new_im \u001b[38;5;241m=\u001b[39m \u001b[43mcrop_and_combine_images\u001b[49m\u001b[43m(\u001b[49m\u001b[43mimage_path\u001b[49m\u001b[43m,\u001b[49m\u001b[43m \u001b[49m\u001b[43mnum_crops\u001b[49m\u001b[43m,\u001b[49m\u001b[43m \u001b[49m\u001b[43mcenter_points\u001b[49m\u001b[43m,\u001b[49m\u001b[43m \u001b[49m\u001b[43mzoom\u001b[49m\u001b[43m,\u001b[49m\u001b[43m \u001b[49m\u001b[43maspect_ratio\u001b[49m\u001b[43m,\u001b[49m\u001b[43m \u001b[49m\u001b[43mbuffer_width_input\u001b[49m\u001b[43m)\u001b[49m\n\u001b[0;32m     32\u001b[0m \u001b[38;5;66;03m## scaler for downsizing the images this should be split out eventually\u001b[39;00m\n\u001b[0;32m     33\u001b[0m scaler \u001b[38;5;241m=\u001b[39m \u001b[38;5;241m0.2\u001b[39m\n",
      "Cell \u001b[1;32mIn[4], line 29\u001b[0m, in \u001b[0;36mcrop_and_combine_images\u001b[1;34m(image_path, num_crops, center_points, zoom, aspect_ratio, buffer_width_input)\u001b[0m\n\u001b[0;32m     26\u001b[0m lower \u001b[38;5;241m=\u001b[39m upper \u001b[38;5;241m+\u001b[39m crop_height\n\u001b[0;32m     28\u001b[0m \u001b[38;5;66;03m# Crop the image\u001b[39;00m\n\u001b[1;32m---> 29\u001b[0m cropped_image \u001b[38;5;241m=\u001b[39m \u001b[43mimage\u001b[49m\u001b[38;5;241;43m.\u001b[39;49m\u001b[43mcrop\u001b[49m\u001b[43m(\u001b[49m\u001b[43m(\u001b[49m\u001b[43mleft\u001b[49m\u001b[43m,\u001b[49m\u001b[43m \u001b[49m\u001b[43mupper\u001b[49m\u001b[43m,\u001b[49m\u001b[43m \u001b[49m\u001b[43mright\u001b[49m\u001b[43m,\u001b[49m\u001b[43m \u001b[49m\u001b[43mlower\u001b[49m\u001b[43m)\u001b[49m\u001b[43m)\u001b[49m\n\u001b[0;32m     31\u001b[0m \u001b[38;5;66;03m# Append the cropped image to the list\u001b[39;00m\n\u001b[0;32m     32\u001b[0m cropped_images\u001b[38;5;241m.\u001b[39mappend(cropped_image)\n",
      "File \u001b[1;32m~\\anaconda3\\lib\\site-packages\\PIL\\Image.py:1233\u001b[0m, in \u001b[0;36mImage.crop\u001b[1;34m(self, box)\u001b[0m\n\u001b[0;32m   1230\u001b[0m     msg \u001b[38;5;241m=\u001b[39m \u001b[38;5;124m\"\u001b[39m\u001b[38;5;124mCoordinate \u001b[39m\u001b[38;5;124m'\u001b[39m\u001b[38;5;124mlower\u001b[39m\u001b[38;5;124m'\u001b[39m\u001b[38;5;124m is less than \u001b[39m\u001b[38;5;124m'\u001b[39m\u001b[38;5;124mupper\u001b[39m\u001b[38;5;124m'\u001b[39m\u001b[38;5;124m\"\u001b[39m\n\u001b[0;32m   1231\u001b[0m     \u001b[38;5;28;01mraise\u001b[39;00m \u001b[38;5;167;01mValueError\u001b[39;00m(msg)\n\u001b[1;32m-> 1233\u001b[0m \u001b[38;5;28;43mself\u001b[39;49m\u001b[38;5;241;43m.\u001b[39;49m\u001b[43mload\u001b[49m\u001b[43m(\u001b[49m\u001b[43m)\u001b[49m\n\u001b[0;32m   1234\u001b[0m \u001b[38;5;28;01mreturn\u001b[39;00m \u001b[38;5;28mself\u001b[39m\u001b[38;5;241m.\u001b[39m_new(\u001b[38;5;28mself\u001b[39m\u001b[38;5;241m.\u001b[39m_crop(\u001b[38;5;28mself\u001b[39m\u001b[38;5;241m.\u001b[39mim, box))\n",
      "File \u001b[1;32m~\\anaconda3\\lib\\site-packages\\PIL\\ImageFile.py:216\u001b[0m, in \u001b[0;36mImageFile.load\u001b[1;34m(self)\u001b[0m\n\u001b[0;32m    213\u001b[0m         \u001b[38;5;28;01mexcept\u001b[39;00m (\u001b[38;5;167;01mAttributeError\u001b[39;00m, \u001b[38;5;167;01mOSError\u001b[39;00m, \u001b[38;5;167;01mImportError\u001b[39;00m):\n\u001b[0;32m    214\u001b[0m             \u001b[38;5;28mself\u001b[39m\u001b[38;5;241m.\u001b[39mmap \u001b[38;5;241m=\u001b[39m \u001b[38;5;28;01mNone\u001b[39;00m\n\u001b[1;32m--> 216\u001b[0m \u001b[38;5;28;43mself\u001b[39;49m\u001b[38;5;241;43m.\u001b[39;49m\u001b[43mload_prepare\u001b[49m\u001b[43m(\u001b[49m\u001b[43m)\u001b[49m\n\u001b[0;32m    217\u001b[0m err_code \u001b[38;5;241m=\u001b[39m \u001b[38;5;241m-\u001b[39m\u001b[38;5;241m3\u001b[39m  \u001b[38;5;66;03m# initialize to unknown error\u001b[39;00m\n\u001b[0;32m    218\u001b[0m \u001b[38;5;28;01mif\u001b[39;00m \u001b[38;5;129;01mnot\u001b[39;00m \u001b[38;5;28mself\u001b[39m\u001b[38;5;241m.\u001b[39mmap:\n\u001b[0;32m    219\u001b[0m     \u001b[38;5;66;03m# sort tiles in file order\u001b[39;00m\n",
      "File \u001b[1;32m~\\anaconda3\\lib\\site-packages\\PIL\\ImageFile.py:295\u001b[0m, in \u001b[0;36mImageFile.load_prepare\u001b[1;34m(self)\u001b[0m\n\u001b[0;32m    292\u001b[0m \u001b[38;5;28;01mdef\u001b[39;00m \u001b[38;5;21mload_prepare\u001b[39m(\u001b[38;5;28mself\u001b[39m):\n\u001b[0;32m    293\u001b[0m     \u001b[38;5;66;03m# create image memory if necessary\u001b[39;00m\n\u001b[0;32m    294\u001b[0m     \u001b[38;5;28;01mif\u001b[39;00m \u001b[38;5;129;01mnot\u001b[39;00m \u001b[38;5;28mself\u001b[39m\u001b[38;5;241m.\u001b[39mim \u001b[38;5;129;01mor\u001b[39;00m \u001b[38;5;28mself\u001b[39m\u001b[38;5;241m.\u001b[39mim\u001b[38;5;241m.\u001b[39mmode \u001b[38;5;241m!=\u001b[39m \u001b[38;5;28mself\u001b[39m\u001b[38;5;241m.\u001b[39mmode \u001b[38;5;129;01mor\u001b[39;00m \u001b[38;5;28mself\u001b[39m\u001b[38;5;241m.\u001b[39mim\u001b[38;5;241m.\u001b[39msize \u001b[38;5;241m!=\u001b[39m \u001b[38;5;28mself\u001b[39m\u001b[38;5;241m.\u001b[39msize:\n\u001b[1;32m--> 295\u001b[0m         \u001b[38;5;28mself\u001b[39m\u001b[38;5;241m.\u001b[39mim \u001b[38;5;241m=\u001b[39m \u001b[43mImage\u001b[49m\u001b[38;5;241;43m.\u001b[39;49m\u001b[43mcore\u001b[49m\u001b[38;5;241;43m.\u001b[39;49m\u001b[43mnew\u001b[49m\u001b[43m(\u001b[49m\u001b[38;5;28;43mself\u001b[39;49m\u001b[38;5;241;43m.\u001b[39;49m\u001b[43mmode\u001b[49m\u001b[43m,\u001b[49m\u001b[43m \u001b[49m\u001b[38;5;28;43mself\u001b[39;49m\u001b[38;5;241;43m.\u001b[39;49m\u001b[43msize\u001b[49m\u001b[43m)\u001b[49m\n\u001b[0;32m    296\u001b[0m     \u001b[38;5;66;03m# create palette (optional)\u001b[39;00m\n\u001b[0;32m    297\u001b[0m     \u001b[38;5;28;01mif\u001b[39;00m \u001b[38;5;28mself\u001b[39m\u001b[38;5;241m.\u001b[39mmode \u001b[38;5;241m==\u001b[39m \u001b[38;5;124m\"\u001b[39m\u001b[38;5;124mP\u001b[39m\u001b[38;5;124m\"\u001b[39m:\n",
      "\u001b[1;31mMemoryError\u001b[0m: "
     ]
    }
   ],
   "source": [
    "## code for selecting what part of the image is to be cropped\n",
    "\n",
    "from PIL import Image\n",
    "import os, sys\n",
    "\n",
    "\n",
    "source_path = subdir_path\n",
    "\n",
    "out_path = ('C:/Users/isaac/Pictures/temp')\n",
    "dirs = os.listdir( source_path )\n",
    "\n",
    "### avoid bomb error\n",
    "Image.MAX_IMAGE_PIXELS = 7000000000000000000000000\n",
    "\n",
    "## crop conduct experimental crop on a selected image\n",
    "\n",
    "#sample image path\n",
    "im_path = os.path.join(source_path, file_list[59])\n",
    "\n",
    "#crop_and_combine_image(image_path, aspect_ratio, zoom, center_points)\n",
    "\n",
    "\n",
    "num_crops = 1\n",
    "image_path = im_path\n",
    "aspect_ratio = 16/9 #9/16 #standard is 16/9 or 9/16\n",
    "zoom = 1\n",
    "center_points = [(0.5,0.5)] # add or remove from the list as needed for 1-3. Upper left is (0,0) and bottom right (1,1)\n",
    "buffer_width_input =0.005\n",
    "\n",
    "new_im = crop_and_combine_images(image_path, num_crops, center_points, zoom, aspect_ratio, buffer_width_input)\n",
    "\n",
    "## scaler for downsizing the images this should be split out eventually\n",
    "scaler = 0.2\n",
    "\n",
    "## resize the images\n",
    "width, height = new_im.size\n",
    "newsize = (int(width*scaler), int(height*scaler))\n",
    "resized_im = new_im.resize(newsize)\n",
    "    \n",
    "print(width, height, width/height)\n",
    "resize_w, resize_h = resized_im.size\n",
    "print(resize_w, resize_h)\n",
    "resized_im.show()\n",
    "\n",
    "\n",
    "#new_im.save(out_path + '/cropped.jpg', 'JPEG', quality = 90)\n",
    "\n",
    "\n",
    "print(\"All done!\")"
   ]
  },
  {
   "cell_type": "code",
   "execution_count": 13,
   "metadata": {
    "scrolled": true
   },
   "outputs": [
    {
     "name": "stdout",
     "output_type": "stream",
     "text": [
      "Z:/carrots_01302023/00001.jpg\n"
     ]
    },
    {
     "ename": "MemoryError",
     "evalue": "",
     "output_type": "error",
     "traceback": [
      "\u001b[1;31m---------------------------------------------------------------------------\u001b[0m",
      "\u001b[1;31mMemoryError\u001b[0m                               Traceback (most recent call last)",
      "Cell \u001b[1;32mIn[13], line 23\u001b[0m\n\u001b[0;32m     21\u001b[0m \u001b[38;5;66;03m#im = rotate_im.rotate(270, expand = True)\u001b[39;00m\n\u001b[0;32m     22\u001b[0m \u001b[38;5;28mprint\u001b[39m(im)\n\u001b[1;32m---> 23\u001b[0m new_im \u001b[38;5;241m=\u001b[39m \u001b[43mcrop_and_combine_images\u001b[49m\u001b[43m(\u001b[49m\u001b[43mim\u001b[49m\u001b[43m,\u001b[49m\u001b[43m \u001b[49m\u001b[43mnum_crops\u001b[49m\u001b[43m,\u001b[49m\u001b[43m \u001b[49m\u001b[43mcenter_points\u001b[49m\u001b[43m,\u001b[49m\u001b[43m \u001b[49m\u001b[43mzoom\u001b[49m\u001b[43m,\u001b[49m\u001b[43m \u001b[49m\u001b[43maspect_ratio\u001b[49m\u001b[43m,\u001b[49m\u001b[43m \u001b[49m\u001b[43mbuffer_width_input\u001b[49m\u001b[43m)\u001b[49m\n\u001b[0;32m     25\u001b[0m \u001b[38;5;66;03m## scaler for downsizing the images this should be split out eventually\u001b[39;00m\n\u001b[0;32m     26\u001b[0m scaler \u001b[38;5;241m=\u001b[39m \u001b[38;5;241m0.1\u001b[39m\n",
      "Cell \u001b[1;32mIn[4], line 29\u001b[0m, in \u001b[0;36mcrop_and_combine_images\u001b[1;34m(image_path, num_crops, center_points, zoom, aspect_ratio, buffer_width_input)\u001b[0m\n\u001b[0;32m     26\u001b[0m lower \u001b[38;5;241m=\u001b[39m upper \u001b[38;5;241m+\u001b[39m crop_height\n\u001b[0;32m     28\u001b[0m \u001b[38;5;66;03m# Crop the image\u001b[39;00m\n\u001b[1;32m---> 29\u001b[0m cropped_image \u001b[38;5;241m=\u001b[39m \u001b[43mimage\u001b[49m\u001b[38;5;241;43m.\u001b[39;49m\u001b[43mcrop\u001b[49m\u001b[43m(\u001b[49m\u001b[43m(\u001b[49m\u001b[43mleft\u001b[49m\u001b[43m,\u001b[49m\u001b[43m \u001b[49m\u001b[43mupper\u001b[49m\u001b[43m,\u001b[49m\u001b[43m \u001b[49m\u001b[43mright\u001b[49m\u001b[43m,\u001b[49m\u001b[43m \u001b[49m\u001b[43mlower\u001b[49m\u001b[43m)\u001b[49m\u001b[43m)\u001b[49m\n\u001b[0;32m     31\u001b[0m \u001b[38;5;66;03m# Append the cropped image to the list\u001b[39;00m\n\u001b[0;32m     32\u001b[0m cropped_images\u001b[38;5;241m.\u001b[39mappend(cropped_image)\n",
      "File \u001b[1;32m~\\anaconda3\\lib\\site-packages\\PIL\\Image.py:1233\u001b[0m, in \u001b[0;36mImage.crop\u001b[1;34m(self, box)\u001b[0m\n\u001b[0;32m   1230\u001b[0m     msg \u001b[38;5;241m=\u001b[39m \u001b[38;5;124m\"\u001b[39m\u001b[38;5;124mCoordinate \u001b[39m\u001b[38;5;124m'\u001b[39m\u001b[38;5;124mlower\u001b[39m\u001b[38;5;124m'\u001b[39m\u001b[38;5;124m is less than \u001b[39m\u001b[38;5;124m'\u001b[39m\u001b[38;5;124mupper\u001b[39m\u001b[38;5;124m'\u001b[39m\u001b[38;5;124m\"\u001b[39m\n\u001b[0;32m   1231\u001b[0m     \u001b[38;5;28;01mraise\u001b[39;00m \u001b[38;5;167;01mValueError\u001b[39;00m(msg)\n\u001b[1;32m-> 1233\u001b[0m \u001b[38;5;28;43mself\u001b[39;49m\u001b[38;5;241;43m.\u001b[39;49m\u001b[43mload\u001b[49m\u001b[43m(\u001b[49m\u001b[43m)\u001b[49m\n\u001b[0;32m   1234\u001b[0m \u001b[38;5;28;01mreturn\u001b[39;00m \u001b[38;5;28mself\u001b[39m\u001b[38;5;241m.\u001b[39m_new(\u001b[38;5;28mself\u001b[39m\u001b[38;5;241m.\u001b[39m_crop(\u001b[38;5;28mself\u001b[39m\u001b[38;5;241m.\u001b[39mim, box))\n",
      "File \u001b[1;32m~\\anaconda3\\lib\\site-packages\\PIL\\ImageFile.py:216\u001b[0m, in \u001b[0;36mImageFile.load\u001b[1;34m(self)\u001b[0m\n\u001b[0;32m    213\u001b[0m         \u001b[38;5;28;01mexcept\u001b[39;00m (\u001b[38;5;167;01mAttributeError\u001b[39;00m, \u001b[38;5;167;01mOSError\u001b[39;00m, \u001b[38;5;167;01mImportError\u001b[39;00m):\n\u001b[0;32m    214\u001b[0m             \u001b[38;5;28mself\u001b[39m\u001b[38;5;241m.\u001b[39mmap \u001b[38;5;241m=\u001b[39m \u001b[38;5;28;01mNone\u001b[39;00m\n\u001b[1;32m--> 216\u001b[0m \u001b[38;5;28;43mself\u001b[39;49m\u001b[38;5;241;43m.\u001b[39;49m\u001b[43mload_prepare\u001b[49m\u001b[43m(\u001b[49m\u001b[43m)\u001b[49m\n\u001b[0;32m    217\u001b[0m err_code \u001b[38;5;241m=\u001b[39m \u001b[38;5;241m-\u001b[39m\u001b[38;5;241m3\u001b[39m  \u001b[38;5;66;03m# initialize to unknown error\u001b[39;00m\n\u001b[0;32m    218\u001b[0m \u001b[38;5;28;01mif\u001b[39;00m \u001b[38;5;129;01mnot\u001b[39;00m \u001b[38;5;28mself\u001b[39m\u001b[38;5;241m.\u001b[39mmap:\n\u001b[0;32m    219\u001b[0m     \u001b[38;5;66;03m# sort tiles in file order\u001b[39;00m\n",
      "File \u001b[1;32m~\\anaconda3\\lib\\site-packages\\PIL\\ImageFile.py:295\u001b[0m, in \u001b[0;36mImageFile.load_prepare\u001b[1;34m(self)\u001b[0m\n\u001b[0;32m    292\u001b[0m \u001b[38;5;28;01mdef\u001b[39;00m \u001b[38;5;21mload_prepare\u001b[39m(\u001b[38;5;28mself\u001b[39m):\n\u001b[0;32m    293\u001b[0m     \u001b[38;5;66;03m# create image memory if necessary\u001b[39;00m\n\u001b[0;32m    294\u001b[0m     \u001b[38;5;28;01mif\u001b[39;00m \u001b[38;5;129;01mnot\u001b[39;00m \u001b[38;5;28mself\u001b[39m\u001b[38;5;241m.\u001b[39mim \u001b[38;5;129;01mor\u001b[39;00m \u001b[38;5;28mself\u001b[39m\u001b[38;5;241m.\u001b[39mim\u001b[38;5;241m.\u001b[39mmode \u001b[38;5;241m!=\u001b[39m \u001b[38;5;28mself\u001b[39m\u001b[38;5;241m.\u001b[39mmode \u001b[38;5;129;01mor\u001b[39;00m \u001b[38;5;28mself\u001b[39m\u001b[38;5;241m.\u001b[39mim\u001b[38;5;241m.\u001b[39msize \u001b[38;5;241m!=\u001b[39m \u001b[38;5;28mself\u001b[39m\u001b[38;5;241m.\u001b[39msize:\n\u001b[1;32m--> 295\u001b[0m         \u001b[38;5;28mself\u001b[39m\u001b[38;5;241m.\u001b[39mim \u001b[38;5;241m=\u001b[39m \u001b[43mImage\u001b[49m\u001b[38;5;241;43m.\u001b[39;49m\u001b[43mcore\u001b[49m\u001b[38;5;241;43m.\u001b[39;49m\u001b[43mnew\u001b[49m\u001b[43m(\u001b[49m\u001b[38;5;28;43mself\u001b[39;49m\u001b[38;5;241;43m.\u001b[39;49m\u001b[43mmode\u001b[49m\u001b[43m,\u001b[49m\u001b[43m \u001b[49m\u001b[38;5;28;43mself\u001b[39;49m\u001b[38;5;241;43m.\u001b[39;49m\u001b[43msize\u001b[49m\u001b[43m)\u001b[49m\n\u001b[0;32m    296\u001b[0m     \u001b[38;5;66;03m# create palette (optional)\u001b[39;00m\n\u001b[0;32m    297\u001b[0m     \u001b[38;5;28;01mif\u001b[39;00m \u001b[38;5;28mself\u001b[39m\u001b[38;5;241m.\u001b[39mmode \u001b[38;5;241m==\u001b[39m \u001b[38;5;124m\"\u001b[39m\u001b[38;5;124mP\u001b[39m\u001b[38;5;124m\"\u001b[39m:\n",
      "\u001b[1;31mMemoryError\u001b[0m: "
     ]
    }
   ],
   "source": [
    "## loop  for cropping for video\n",
    "\n",
    "## loop to crop all images once scout cropping is complete\n",
    "\n",
    "from PIL import Image\n",
    "import os\n",
    "import sys\n",
    "\n",
    "out_path = ('C:/Users/isaac/Pictures/temp')\n",
    "\n",
    "dirs = os.listdir( source_path )\n",
    "\n",
    "Image.MAX_IMAGE_PIXELS = 70000000000000\n",
    "\n",
    "#print (dirs)\n",
    "## crop all of the images\n",
    "\n",
    "for item in dirs:\n",
    "    \n",
    "    im = source_path + \"/\" + item\n",
    "    #im = rotate_im.rotate(270, expand = True)\n",
    "    print(im)\n",
    "    new_im = crop_and_combine_images(im, num_crops, center_points, zoom, aspect_ratio, buffer_width_input)\n",
    "\n",
    "    ## scaler for downsizing the images this should be split out eventually\n",
    "    scaler = 0.1\n",
    "\n",
    "    ## resize the images\n",
    "    width, height = new_im.size\n",
    "    newsize = (int(width*scaler), int(height*scaler))\n",
    "    resized_im = new_im.resize(newsize)\n",
    "    \n",
    "    ## save the new images\n",
    "    f, e = os.path.splitext(out_path + \"/\" + item)\n",
    "    resized_im.save(f + '_two_panel.jpg', 'JPEG', quality = 90)\n",
    "    \n",
    "print(\"All done!\")"
   ]
  },
  {
   "cell_type": "code",
   "execution_count": 7,
   "metadata": {
    "scrolled": false
   },
   "outputs": [
    {
     "name": "stdout",
     "output_type": "stream",
     "text": [
      "< cv2.VideoWriter 00000259AA2111B0>\n",
      "You have a video!\n"
     ]
    }
   ],
   "source": [
    "import cv2\n",
    "import os\n",
    "\n",
    "out_path = ('C:/Users/isaac/Pictures/temp')\n",
    "\n",
    "## takes the path from the above\n",
    "image_folder = out_path\n",
    "## root video directory\n",
    "\n",
    "video_name = \"new_video-5fps.avi\"\n",
    "\n",
    "images = [img for img in os.listdir(image_folder) if img.endswith(\".jpg\")]\n",
    "#print(images)\n",
    "frame = cv2.imread(os.path.join(image_folder, images[0]))\n",
    "height, width, layers = frame.shape\n",
    "\n",
    "fourcc = cv2.VideoWriter_fourcc(*'MJPG')\n",
    "#fourcc = cv2.VideoWriter_fourcc(*'MP4V')\n",
    "#fourcc = cv2.VideoWriter_fourcc(*'IYUV')\n",
    "#fourcc = cv2.VideoWriter_fourcc(*'H264')\n",
    "#fourcc = cv2.cv.CV_FOURCC(*'H264')\n",
    "video = cv2.VideoWriter(video_name, fourcc , 5, (width,height))\n",
    "print(video)\n",
    "\n",
    "#for image in images:\n",
    "for image in images:\n",
    "   video.write(cv2.imread(os.path.join(image_folder, image)))\n",
    "\n",
    "cv2.destroyAllWindows()\n",
    "video.release()\n",
    "\n",
    "print(\"You have a video!\")"
   ]
  }
 ],
 "metadata": {
  "kernelspec": {
   "display_name": "Python 3 (ipykernel)",
   "language": "python",
   "name": "python3"
  },
  "language_info": {
   "codemirror_mode": {
    "name": "ipython",
    "version": 3
   },
   "file_extension": ".py",
   "mimetype": "text/x-python",
   "name": "python",
   "nbconvert_exporter": "python",
   "pygments_lexer": "ipython3",
   "version": "3.10.9"
  }
 },
 "nbformat": 4,
 "nbformat_minor": 2
}
